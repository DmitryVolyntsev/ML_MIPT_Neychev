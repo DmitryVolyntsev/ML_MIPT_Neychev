{
 "cells": [
  {
   "cell_type": "markdown",
   "metadata": {
    "colab_type": "text",
    "id": "v5Fj-ahf25os"
   },
   "source": [
    "# Домашнее задание №1: Классификация. \n",
    "# Логистическая регрессия и kNN."
   ]
  },
  {
   "cell_type": "markdown",
   "metadata": {},
   "source": [
    "Форма для сдачи будет опубликована позднее."
   ]
  },
  {
   "cell_type": "markdown",
   "metadata": {},
   "source": [
    "### Пожалуйста, не производите никаких манипуляций с  переменной `_dict_for_submission` и с ячейками, в которых она используется. На ее основе будет сгенерирован итоговый файл для сдачи задания."
   ]
  },
  {
   "cell_type": "code",
   "execution_count": 1,
   "metadata": {},
   "outputs": [],
   "source": [
    "# Do not change me, just run\n",
    "# !!!!!!!!!!!!!!!!!!!!!!!!!!!!!!!!!!!!!!!!!!!!!!!!\n",
    "_dict_for_submission = dict()\n",
    "\n",
    "\n",
    "def transform_list(list_of_ints):\n",
    "    return [str(x) for x in list_of_ints]\n",
    "# !!!!!!!!!!!!!!!!!!!!!!!!!!!!!!!!!!!!!!!!!!!!!!!!"
   ]
  },
  {
   "cell_type": "markdown",
   "metadata": {
    "colab_type": "text",
    "id": "qZX1Urv425ov"
   },
   "source": [
    "### Часть 1. Небольшой numpy-разогрев. (10%)"
   ]
  },
  {
   "cell_type": "code",
   "execution_count": 2,
   "metadata": {
    "colab": {
     "autoexec": {
      "startup": false,
      "wait_interval": 0
     }
    },
    "colab_type": "code",
    "id": "ABwrGwvF25ow"
   },
   "outputs": [],
   "source": [
    "import numpy as np\n",
    "import pandas as pd"
   ]
  },
  {
   "cell_type": "code",
   "execution_count": 3,
   "metadata": {
    "colab": {
     "autoexec": {
      "startup": false,
      "wait_interval": 0
     }
    },
    "colab_type": "code",
    "id": "GYgIRlqf25o0"
   },
   "outputs": [
    {
     "data": {
      "text/plain": [
       "array([[ 0,  1,  2,  3,  4,  5,  6,  7,  8,  9],\n",
       "       [10, 11, 12, 13, 14, 15, 16, 17, 18, 19],\n",
       "       [20, 21, 22, 23, 24, 25, 26, 27, 28, 29],\n",
       "       [30, 31, 32, 33, 34, 35, 36, 37, 38, 39],\n",
       "       [40, 41, 42, 43, 44, 45, 46, 47, 48, 49],\n",
       "       [50, 51, 52, 53, 54, 55, 56, 57, 58, 59],\n",
       "       [60, 61, 62, 63, 64, 65, 66, 67, 68, 69],\n",
       "       [70, 71, 72, 73, 74, 75, 76, 77, 78, 79],\n",
       "       [80, 81, 82, 83, 84, 85, 86, 87, 88, 89],\n",
       "       [90, 91, 92, 93, 94, 95, 96, 97, 98, 99]])"
      ]
     },
     "execution_count": 3,
     "metadata": {},
     "output_type": "execute_result"
    }
   ],
   "source": [
    "# Создайте матрицу A размерами 10 на 10 из упорядоченных целых чисел от 0 до 100\n",
    "# hint: np.arange(100).reshape((10, 10))\n",
    "\n",
    "# Ваш код здесь\n",
    "A = np.arange(100).reshape((10, 10))\n",
    "A"
   ]
  },
  {
   "cell_type": "code",
   "execution_count": 4,
   "metadata": {
    "colab": {
     "autoexec": {
      "startup": false,
      "wait_interval": 0
     }
    },
    "colab_type": "code",
    "id": "7aB62Lzk25o2"
   },
   "outputs": [
    {
     "data": {
      "text/plain": [
       "array([45., 46., 47., 48., 49., 50., 51., 52., 53., 54.])"
      ]
     },
     "execution_count": 4,
     "metadata": {},
     "output_type": "execute_result"
    }
   ],
   "source": [
    "# Посчитайте средние значения в матрице по столбцам\n",
    "\n",
    "# Ваш код здесь\n",
    "np.mean(A, axis = 0)"
   ]
  },
  {
   "cell_type": "code",
   "execution_count": 5,
   "metadata": {
    "colab": {
     "autoexec": {
      "startup": false,
      "wait_interval": 0
     }
    },
    "colab_type": "code",
    "id": "MTLnNqV425o5"
   },
   "outputs": [
    {
     "data": {
      "text/plain": [
       "array([[ 0, 10, 20, 30, 40, 50, 60, 70, 80, 90],\n",
       "       [ 1, 11, 21, 31, 41, 51, 61, 71, 81, 91],\n",
       "       [ 2, 12, 22, 32, 42, 52, 62, 72, 82, 92],\n",
       "       [ 3, 13, 23, 33, 43, 53, 63, 73, 83, 93],\n",
       "       [ 4, 14, 24, 34, 44, 54, 64, 74, 84, 94],\n",
       "       [ 5, 15, 25, 35, 45, 55, 65, 75, 85, 95],\n",
       "       [ 6, 16, 26, 36, 46, 56, 66, 76, 86, 96],\n",
       "       [ 7, 17, 27, 37, 47, 57, 67, 77, 87, 97],\n",
       "       [ 8, 18, 28, 38, 48, 58, 68, 78, 88, 98],\n",
       "       [ 9, 19, 29, 39, 49, 59, 69, 79, 89, 99]])"
      ]
     },
     "execution_count": 5,
     "metadata": {},
     "output_type": "execute_result"
    }
   ],
   "source": [
    "# Транспонируйте матрицу A\n",
    "\n",
    "# Ваш код здесь\n",
    "A1 = A.T\n",
    "A1"
   ]
  },
  {
   "cell_type": "code",
   "execution_count": 6,
   "metadata": {
    "colab": {
     "autoexec": {
      "startup": false,
      "wait_interval": 0
     }
    },
    "colab_type": "code",
    "id": "WgDUhrYV25o8"
   },
   "outputs": [
    {
     "data": {
      "text/plain": [
       "array([[   0,   10,   40,   90,  160,  250,  360,  490,  640,  810],\n",
       "       [  10,  121,  252,  403,  574,  765,  976, 1207, 1458, 1729],\n",
       "       [  40,  252,  484,  736, 1008, 1300, 1612, 1944, 2296, 2668],\n",
       "       [  90,  403,  736, 1089, 1462, 1855, 2268, 2701, 3154, 3627],\n",
       "       [ 160,  574, 1008, 1462, 1936, 2430, 2944, 3478, 4032, 4606],\n",
       "       [ 250,  765, 1300, 1855, 2430, 3025, 3640, 4275, 4930, 5605],\n",
       "       [ 360,  976, 1612, 2268, 2944, 3640, 4356, 5092, 5848, 6624],\n",
       "       [ 490, 1207, 1944, 2701, 3478, 4275, 5092, 5929, 6786, 7663],\n",
       "       [ 640, 1458, 2296, 3154, 4032, 4930, 5848, 6786, 7744, 8722],\n",
       "       [ 810, 1729, 2668, 3627, 4606, 5605, 6624, 7663, 8722, 9801]])"
      ]
     },
     "execution_count": 6,
     "metadata": {},
     "output_type": "execute_result"
    }
   ],
   "source": [
    "# Перемножьте поэлементно матрицу A и транспонированную матрицу A \n",
    "\n",
    "# Ваш код здесь\n",
    "A * A1"
   ]
  },
  {
   "cell_type": "code",
   "execution_count": 7,
   "metadata": {
    "colab": {
     "autoexec": {
      "startup": false,
      "wait_interval": 0
     }
    },
    "colab_type": "code",
    "id": "xwgLyFDD25o9"
   },
   "outputs": [
    {
     "data": {
      "text/plain": [
       "array([[  285,   735,  1185,  1635,  2085,  2535,  2985,  3435,  3885,\n",
       "         4335],\n",
       "       [  735,  2185,  3635,  5085,  6535,  7985,  9435, 10885, 12335,\n",
       "        13785],\n",
       "       [ 1185,  3635,  6085,  8535, 10985, 13435, 15885, 18335, 20785,\n",
       "        23235],\n",
       "       [ 1635,  5085,  8535, 11985, 15435, 18885, 22335, 25785, 29235,\n",
       "        32685],\n",
       "       [ 2085,  6535, 10985, 15435, 19885, 24335, 28785, 33235, 37685,\n",
       "        42135],\n",
       "       [ 2535,  7985, 13435, 18885, 24335, 29785, 35235, 40685, 46135,\n",
       "        51585],\n",
       "       [ 2985,  9435, 15885, 22335, 28785, 35235, 41685, 48135, 54585,\n",
       "        61035],\n",
       "       [ 3435, 10885, 18335, 25785, 33235, 40685, 48135, 55585, 63035,\n",
       "        70485],\n",
       "       [ 3885, 12335, 20785, 29235, 37685, 46135, 54585, 63035, 71485,\n",
       "        79935],\n",
       "       [ 4335, 13785, 23235, 32685, 42135, 51585, 61035, 70485, 79935,\n",
       "        89385]])"
      ]
     },
     "execution_count": 7,
     "metadata": {},
     "output_type": "execute_result"
    }
   ],
   "source": [
    "# Посчитайте matrix product (результат матричного умножения) матрицы A на саму себя и запишите в матрицу B\n",
    "# https://en.wikipedia.org/wiki/Matrix_multiplication\n",
    "# or https://docs.scipy.org/doc/numpy/reference/generated/numpy.dot.html\n",
    "\n",
    "# Ваш код здесь\n",
    "B = np.dot(A, A1)\n",
    "B"
   ]
  },
  {
   "cell_type": "markdown",
   "metadata": {},
   "source": [
    "#### Не меняйте следующую ячейку. Просто запустите ее."
   ]
  },
  {
   "cell_type": "code",
   "execution_count": 8,
   "metadata": {},
   "outputs": [],
   "source": [
    "# Do not change me, just run\n",
    "# !!!!!!!!!!!!!!!!!!!!!!!!!!!!!!!!!!!!!!!!!!!!!!!!\n",
    "_dict_for_submission['B'] = transform_list(list(B.flatten()))\n",
    "# !!!!!!!!!!!!!!!!!!!!!!!!!!!!!!!!!!!!!!!!!!!!!!!!"
   ]
  },
  {
   "cell_type": "markdown",
   "metadata": {
    "colab_type": "text",
    "id": "9S8tqIMG25pb"
   },
   "source": [
    "### Часть 2. Логистическая регрессия и kNN."
   ]
  },
  {
   "cell_type": "markdown",
   "metadata": {
    "colab_type": "text",
    "id": "T2docs4225pb"
   },
   "source": [
    "Будем работать с подвыборкой из [данных о типе лесного покрытия из репозитория UCI](http://archive.ics.uci.edu/ml/datasets/Covertype). Доступно 7 различных классов. Каждый объект описывается 54 признаками, 40 из которых являются бинарными. Описание данных доступно по ссылке, а так же в файле `covtype.info.txt`."
   ]
  },
  {
   "cell_type": "code",
   "execution_count": 9,
   "metadata": {},
   "outputs": [],
   "source": [
    "import pandas as pd"
   ]
  },
  {
   "cell_type": "code",
   "execution_count": 10,
   "metadata": {},
   "outputs": [],
   "source": [
    "# If on colab, uncomment the following lines\n",
    "\n",
    "# !wget \"https://downloader.disk.yandex.com/disk/cd3ead013809a9da37434c792796d4b063dfc89571c68c273ca3788013b82bf8/5d865a2d/8bfV6Unxao6CYWcER5-G5fza25GZaFjE_xFvc0-ExCwlqmFjBf2bynRfBnL6ubJC8XhsoYHi7h9Nu6gfvS8wxg%3D%3D?uid=76549735&filename=forest_dataset.csv&disposition=attachment&hash=&limit=0&content_type=application%2Fvnd.ms-excel&owner_uid=76549735&fsize=1293856&hid=9b439c18e67923b45c3b3d8891bdf9ab&media_type=spreadsheet&tknv=v2&etag=45e530aa3c9796cb705d4e27be7a6e9c\" -O forest_dataset.csv"
   ]
  },
  {
   "cell_type": "code",
   "execution_count": 11,
   "metadata": {
    "colab": {
     "autoexec": {
      "startup": false,
      "wait_interval": 0
     }
    },
    "colab_type": "code",
    "id": "rvPrVRvK25pc"
   },
   "outputs": [],
   "source": [
    "all_data = pd.read_csv('forest_dataset.csv')"
   ]
  },
  {
   "cell_type": "markdown",
   "metadata": {
    "colab_type": "text",
    "id": "DrX0W5si25pe"
   },
   "source": [
    "Выделим 20% данных в `delayed_data` в качестве выборки, на которой будет производиться финальное сравнение моделей (до конца ноутбука она более не используется), в `all_data` поместим оставшиеся 80%. Не будем перемешивать данные сознательно (для удобства проверки)."
   ]
  },
  {
   "cell_type": "code",
   "execution_count": 12,
   "metadata": {
    "colab": {
     "autoexec": {
      "startup": false,
      "wait_interval": 0
     }
    },
    "colab_type": "code",
    "id": "Deu3A-yc25pf"
   },
   "outputs": [],
   "source": [
    "delayed_data = all_data[int(0.8 * len(all_data)):]\n",
    "all_data = all_data[:int(0.8 * len(all_data))]"
   ]
  },
  {
   "cell_type": "markdown",
   "metadata": {
    "colab_type": "text",
    "id": "itCWxHEY25pg"
   },
   "source": [
    "Выделим значения метки класса в переменную `labels`, признаковые описания в переменную `feature_matrix`. Так как данные числовые и не имеют пропусков, переведем их в `numpy`-формат с помощью метода `.values`."
   ]
  },
  {
   "cell_type": "code",
   "execution_count": 13,
   "metadata": {
    "colab": {
     "autoexec": {
      "startup": false,
      "wait_interval": 0
     }
    },
    "colab_type": "code",
    "id": "f_YIUOuV25ph"
   },
   "outputs": [],
   "source": [
    "labels = all_data[all_data.columns[-1]].values\n",
    "feature_matrix = all_data[all_data.columns[:-1]].values\n",
    "\n",
    "delayed_labels = delayed_data[delayed_data.columns[-1]].values\n",
    "delayed_feature_matrix = delayed_data[delayed_data.columns[:-1]].values"
   ]
  },
  {
   "cell_type": "markdown",
   "metadata": {
    "colab_type": "text",
    "id": "dKCiU0wz25pj"
   },
   "source": [
    "#### 2.1 Двуклассовая классификация (10%)"
   ]
  },
  {
   "cell_type": "markdown",
   "metadata": {
    "colab_type": "text",
    "id": "LYDttiOJ25pj"
   },
   "source": [
    "Для начала будем работать только с двумя типами лесного покрытия. Обучите линейный классификатор для разделения двух классов. Данные разделите на train и test с помощью `train_test_split`."
   ]
  },
  {
   "cell_type": "code",
   "execution_count": 14,
   "metadata": {
    "colab": {
     "autoexec": {
      "startup": false,
      "wait_interval": 0
     }
    },
    "colab_type": "code",
    "id": "Q030jzyY25pl"
   },
   "outputs": [],
   "source": [
    "from sklearn.model_selection import train_test_split\n",
    "from sklearn.linear_model import LogisticRegression\n",
    "from sklearn.metrics import f1_score, accuracy_score"
   ]
  },
  {
   "cell_type": "code",
   "execution_count": 15,
   "metadata": {},
   "outputs": [],
   "source": [
    "from sklearn.preprocessing import StandardScaler"
   ]
  },
  {
   "cell_type": "code",
   "execution_count": 16,
   "metadata": {
    "colab": {
     "autoexec": {
      "startup": false,
      "wait_interval": 0
     }
    },
    "colab_type": "code",
    "id": "taWX6ME925pn"
   },
   "outputs": [],
   "source": [
    "two_class_labels_indices = (labels == 1) + (labels == 2)\n",
    "two_class_feature_matrix = feature_matrix[two_class_labels_indices]\n",
    "two_class_labels = labels[two_class_labels_indices]"
   ]
  },
  {
   "cell_type": "code",
   "execution_count": 17,
   "metadata": {
    "colab": {
     "autoexec": {
      "startup": false,
      "wait_interval": 0
     }
    },
    "colab_type": "code",
    "id": "zoQPXD_k25po"
   },
   "outputs": [],
   "source": [
    "(train_feature_matrix,\n",
    "test_feature_matrix,\n",
    "train_labels,\n",
    "test_labels) = train_test_split(two_class_feature_matrix, two_class_labels)"
   ]
  },
  {
   "cell_type": "markdown",
   "metadata": {
    "colab_type": "text",
    "id": "A8iDa9Je25pq"
   },
   "source": [
    "Обучите логистическую регрессию. Оцените качество классификации на отложенной выборке с помощью `accuracy` и `f1_score` ([Wikipedia](https://en.wikipedia.org/wiki/F1_score))."
   ]
  },
  {
   "cell_type": "code",
   "execution_count": 18,
   "metadata": {
    "colab": {
     "autoexec": {
      "startup": false,
      "wait_interval": 0
     }
    },
    "colab_type": "code",
    "id": "9CKtjwv_25pr"
   },
   "outputs": [],
   "source": [
    "# Ваш код здесь\n",
    "lr_clf = LogisticRegression(solver='lbfgs', max_iter=10000, n_jobs =-1)"
   ]
  },
  {
   "cell_type": "code",
   "execution_count": 19,
   "metadata": {
    "colab": {
     "autoexec": {
      "startup": false,
      "wait_interval": 0
     }
    },
    "colab_type": "code",
    "id": "VF2CeR7W25pt"
   },
   "outputs": [
    {
     "data": {
      "text/plain": [
       "LogisticRegression(C=1.0, class_weight=None, dual=False, fit_intercept=True,\n",
       "          intercept_scaling=1, max_iter=10000, multi_class='warn',\n",
       "          n_jobs=-1, penalty='l2', random_state=None, solver='lbfgs',\n",
       "          tol=0.0001, verbose=0, warm_start=False)"
      ]
     },
     "execution_count": 19,
     "metadata": {},
     "output_type": "execute_result"
    }
   ],
   "source": [
    "lr_clf.fit(train_feature_matrix, train_labels)"
   ]
  },
  {
   "cell_type": "code",
   "execution_count": 20,
   "metadata": {},
   "outputs": [],
   "source": [
    "predicted_labels = lr_clf.predict(test_feature_matrix)"
   ]
  },
  {
   "cell_type": "code",
   "execution_count": 21,
   "metadata": {},
   "outputs": [
    {
     "name": "stdout",
     "output_type": "stream",
     "text": [
      "acc =  0.7590431738623103\n",
      "f1 =  0.7121951219512196\n"
     ]
    }
   ],
   "source": [
    "acc = accuracy_score(test_labels, predicted_labels)\n",
    "print('acc = ', acc)\n",
    "f1 = f1_score(test_labels, predicted_labels)\n",
    "print('f1 = ', f1)"
   ]
  },
  {
   "cell_type": "markdown",
   "metadata": {
    "colab_type": "text",
    "id": "9MKHZ2JC25pv"
   },
   "source": [
    "#### 2.2 Многоклассовая классификация: логистическая регрессия (40%)"
   ]
  },
  {
   "cell_type": "markdown",
   "metadata": {
    "colab_type": "text",
    "id": "P1mWe4kJ25pv"
   },
   "source": [
    "**Комментарий:**\n",
    "\n",
    "*Логистическая регрессия позволяет решать и задачу многоклассовой классификации. Класс ``LogisticRegression`` позвляет это делать двумя способами:* \n",
    "- *1. Стандартный One vs Rest (т.е. каждый класс отделяется от всех других). Параметр `multi_class='ovr'`.*\n",
    "- *2. Используюя кросс-энтропию (оценивается сразу вектор вероятностей принадлежности классам). Параметр `multi_class='multinomial'`.*\n",
    "\n",
    "*По умолчанию будем использовать второй способ.*\n"
   ]
  },
  {
   "cell_type": "markdown",
   "metadata": {
    "colab_type": "text",
    "id": "BGn7U05I25pw"
   },
   "source": [
    "Теперь будем работать со всеми 7 типами покрытия (данные уже находятся в переменных `feature_matrix` и `labels`, если Вы их не переопределили). Разделите выборку на обучающую и тестовую с помощью метода `train_test_split`, используйте значения параметров `test_size=0.2`, `random_state=42`. Обучите логистическую регрессию  на данном датасете."
   ]
  },
  {
   "cell_type": "code",
   "execution_count": 22,
   "metadata": {},
   "outputs": [],
   "source": [
    "# Ваш код здесь\n",
    "(train_features,\n",
    "test_features,\n",
    "train_labels,\n",
    "test_labels) = train_test_split(feature_matrix, labels, test_size=0.2, random_state=42)"
   ]
  },
  {
   "cell_type": "code",
   "execution_count": 23,
   "metadata": {},
   "outputs": [
    {
     "name": "stderr",
     "output_type": "stream",
     "text": [
      "D:\\Anaconda\\lib\\site-packages\\sklearn\\utils\\validation.py:595: DataConversionWarning: Data with input dtype int64 was converted to float64 by StandardScaler.\n",
      "  warnings.warn(msg, DataConversionWarning)\n",
      "D:\\Anaconda\\lib\\site-packages\\sklearn\\utils\\validation.py:595: DataConversionWarning: Data with input dtype int64 was converted to float64 by StandardScaler.\n",
      "  warnings.warn(msg, DataConversionWarning)\n",
      "D:\\Anaconda\\lib\\site-packages\\sklearn\\utils\\validation.py:595: DataConversionWarning: Data with input dtype int64 was converted to float64 by StandardScaler.\n",
      "  warnings.warn(msg, DataConversionWarning)\n"
     ]
    }
   ],
   "source": [
    "scaler = StandardScaler()\n",
    "train_features = scaler.fit_transform(train_features)\n",
    "test_features = scaler.transform(test_features)"
   ]
  },
  {
   "cell_type": "code",
   "execution_count": 24,
   "metadata": {
    "colab": {
     "autoexec": {
      "startup": false,
      "wait_interval": 0
     }
    },
    "colab_type": "code",
    "id": "xqzEKcdD25px"
   },
   "outputs": [
    {
     "data": {
      "text/plain": [
       "LogisticRegression(C=1.0, class_weight=None, dual=False, fit_intercept=True,\n",
       "          intercept_scaling=1, max_iter=10000, multi_class='multinomial',\n",
       "          n_jobs=-1, penalty='l2', random_state=None, solver='saga',\n",
       "          tol=0.0001, verbose=0, warm_start=False)"
      ]
     },
     "execution_count": 24,
     "metadata": {},
     "output_type": "execute_result"
    }
   ],
   "source": [
    "# Ваш код здесь\n",
    "lr_clf = LogisticRegression(solver='saga', multi_class='multinomial', max_iter=10000, n_jobs =-1)\n",
    "lr_clf.fit(train_features, train_labels)"
   ]
  },
  {
   "cell_type": "code",
   "execution_count": 25,
   "metadata": {},
   "outputs": [],
   "source": [
    "predicted_labels = lr_clf.predict(test_features)"
   ]
  },
  {
   "cell_type": "code",
   "execution_count": 26,
   "metadata": {},
   "outputs": [
    {
     "name": "stdout",
     "output_type": "stream",
     "text": [
      "acc =  0.718125\n"
     ]
    }
   ],
   "source": [
    "acc = accuracy_score(test_labels, predicted_labels)\n",
    "print('acc = ', acc)"
   ]
  },
  {
   "cell_type": "markdown",
   "metadata": {
    "colab_type": "text",
    "id": "5QqTntPq25p0"
   },
   "source": [
    "С помощью 5-кратной кросс-валидации (`GridSearchCV`) подберите оптимальное значение параметров `С` и `penalty`. Для параметра `C` используйте набор значений `np.linspace(0.01, 1, 10)`, а для `penalty` - `['l1', 'l2']`. Критерий качества `scoring = 'accuracy'`."
   ]
  },
  {
   "cell_type": "code",
   "execution_count": 27,
   "metadata": {
    "colab": {
     "autoexec": {
      "startup": false,
      "wait_interval": 0
     }
    },
    "colab_type": "code",
    "id": "j-M-porJ25p0"
   },
   "outputs": [],
   "source": [
    "# Ваш код здесь\n",
    "from sklearn.model_selection import GridSearchCV"
   ]
  },
  {
   "cell_type": "code",
   "execution_count": 28,
   "metadata": {},
   "outputs": [],
   "source": [
    "cross_valid = 5\n",
    "pg = {'C': np.linspace(0.01, 1, 10), 'penalty': ['l1', 'l2']}"
   ]
  },
  {
   "cell_type": "code",
   "execution_count": 29,
   "metadata": {},
   "outputs": [],
   "source": [
    "ratio = LogisticRegression(solver='saga', multi_class='multinomial', max_iter=10000)"
   ]
  },
  {
   "cell_type": "code",
   "execution_count": 30,
   "metadata": {},
   "outputs": [
    {
     "data": {
      "text/plain": [
       "GridSearchCV(cv=5, error_score='raise-deprecating',\n",
       "       estimator=LogisticRegression(C=1.0, class_weight=None, dual=False, fit_intercept=True,\n",
       "          intercept_scaling=1, max_iter=10000, multi_class='multinomial',\n",
       "          n_jobs=None, penalty='l2', random_state=None, solver='saga',\n",
       "          tol=0.0001, verbose=0, warm_start=False),\n",
       "       fit_params=None, iid='warn', n_jobs=-1,\n",
       "       param_grid={'C': array([0.01, 0.12, 0.23, 0.34, 0.45, 0.56, 0.67, 0.78, 0.89, 1.  ]), 'penalty': ['l1', 'l2']},\n",
       "       pre_dispatch='2*n_jobs', refit=True, return_train_score='warn',\n",
       "       scoring=None, verbose=0)"
      ]
     },
     "execution_count": 30,
     "metadata": {},
     "output_type": "execute_result"
    }
   ],
   "source": [
    "grid_search = GridSearchCV(estimator=ratio, n_jobs = -1, param_grid=pg, cv=cross_valid)\n",
    "grid_search.fit(train_features, train_labels)"
   ]
  },
  {
   "cell_type": "code",
   "execution_count": 31,
   "metadata": {},
   "outputs": [
    {
     "data": {
      "text/plain": [
       "{'C': 0.12, 'penalty': 'l1'}"
      ]
     },
     "execution_count": 31,
     "metadata": {},
     "output_type": "execute_result"
    }
   ],
   "source": [
    "grid_search.best_params_"
   ]
  },
  {
   "cell_type": "code",
   "execution_count": 32,
   "metadata": {},
   "outputs": [
    {
     "name": "stderr",
     "output_type": "stream",
     "text": [
      "D:\\Anaconda\\lib\\site-packages\\sklearn\\utils\\deprecation.py:125: FutureWarning: You are accessing a training score ('split0_train_score'), which will not be available by default any more in 0.21. If you need training scores, please set return_train_score=True\n",
      "  warnings.warn(*warn_args, **warn_kwargs)\n",
      "D:\\Anaconda\\lib\\site-packages\\sklearn\\utils\\deprecation.py:125: FutureWarning: You are accessing a training score ('split1_train_score'), which will not be available by default any more in 0.21. If you need training scores, please set return_train_score=True\n",
      "  warnings.warn(*warn_args, **warn_kwargs)\n",
      "D:\\Anaconda\\lib\\site-packages\\sklearn\\utils\\deprecation.py:125: FutureWarning: You are accessing a training score ('split2_train_score'), which will not be available by default any more in 0.21. If you need training scores, please set return_train_score=True\n",
      "  warnings.warn(*warn_args, **warn_kwargs)\n",
      "D:\\Anaconda\\lib\\site-packages\\sklearn\\utils\\deprecation.py:125: FutureWarning: You are accessing a training score ('split3_train_score'), which will not be available by default any more in 0.21. If you need training scores, please set return_train_score=True\n",
      "  warnings.warn(*warn_args, **warn_kwargs)\n",
      "D:\\Anaconda\\lib\\site-packages\\sklearn\\utils\\deprecation.py:125: FutureWarning: You are accessing a training score ('split4_train_score'), which will not be available by default any more in 0.21. If you need training scores, please set return_train_score=True\n",
      "  warnings.warn(*warn_args, **warn_kwargs)\n",
      "D:\\Anaconda\\lib\\site-packages\\sklearn\\utils\\deprecation.py:125: FutureWarning: You are accessing a training score ('mean_train_score'), which will not be available by default any more in 0.21. If you need training scores, please set return_train_score=True\n",
      "  warnings.warn(*warn_args, **warn_kwargs)\n",
      "D:\\Anaconda\\lib\\site-packages\\sklearn\\utils\\deprecation.py:125: FutureWarning: You are accessing a training score ('std_train_score'), which will not be available by default any more in 0.21. If you need training scores, please set return_train_score=True\n",
      "  warnings.warn(*warn_args, **warn_kwargs)\n"
     ]
    },
    {
     "data": {
      "text/plain": [
       "{'mean_fit_time': array([ 8.48968563,  7.52263026, 55.40876918, 18.5276598 , 71.72970271,\n",
       "        25.73727212, 84.08300924, 29.73190055, 89.46951733, 33.61672268,\n",
       "        91.22901802, 36.10306501, 91.72804651, 38.92282629, 91.6330411 ,\n",
       "        40.26370301, 92.22847524, 41.39536762, 94.74361906, 41.5631772 ]),\n",
       " 'std_fit_time': array([0.26593956, 0.28344059, 0.66307207, 0.21056522, 5.0908615 ,\n",
       "        0.77387454, 3.23213994, 1.29096994, 3.8306376 , 1.02063289,\n",
       "        3.53596225, 1.61591701, 3.14249458, 0.82535822, 2.95252539,\n",
       "        1.08337646, 3.23313628, 1.5635995 , 3.78809482, 2.00001788]),\n",
       " 'mean_score_time': array([0.00660033, 0.00040002, 0.00100012, 0.00099998, 0.00100007,\n",
       "        0.00100007, 0.00100007, 0.00100017, 0.00100021, 0.00099998,\n",
       "        0.00100012, 0.00080009, 0.00100007, 0.0006    , 0.00100002,\n",
       "        0.00079999, 0.00100012, 0.00100012, 0.00100002, 0.00100007]),\n",
       " 'std_score_time': array([9.70840945e-03, 4.89920847e-04, 9.53674316e-08, 9.53674316e-08,\n",
       "        1.90734863e-07, 1.90734863e-07, 1.16800773e-07, 1.50789149e-07,\n",
       "        9.53674316e-08, 9.53674316e-08, 1.78416128e-07, 4.00042545e-04,\n",
       "        1.90734863e-07, 4.89901382e-04, 1.16800773e-07, 3.99994861e-04,\n",
       "        1.78416128e-07, 9.53674316e-08, 1.16800773e-07, 1.16800773e-07]),\n",
       " 'param_C': masked_array(data=[0.01, 0.01, 0.12, 0.12, 0.23, 0.23, 0.34, 0.34, 0.45,\n",
       "                    0.45, 0.56, 0.56, 0.67, 0.67, 0.78, 0.78, 0.89, 0.89,\n",
       "                    1.0, 1.0],\n",
       "              mask=[False, False, False, False, False, False, False, False,\n",
       "                    False, False, False, False, False, False, False, False,\n",
       "                    False, False, False, False],\n",
       "        fill_value='?',\n",
       "             dtype=object),\n",
       " 'param_penalty': masked_array(data=['l1', 'l2', 'l1', 'l2', 'l1', 'l2', 'l1', 'l2', 'l1',\n",
       "                    'l2', 'l1', 'l2', 'l1', 'l2', 'l1', 'l2', 'l1', 'l2',\n",
       "                    'l1', 'l2'],\n",
       "              mask=[False, False, False, False, False, False, False, False,\n",
       "                    False, False, False, False, False, False, False, False,\n",
       "                    False, False, False, False],\n",
       "        fill_value='?',\n",
       "             dtype=object),\n",
       " 'params': [{'C': 0.01, 'penalty': 'l1'},\n",
       "  {'C': 0.01, 'penalty': 'l2'},\n",
       "  {'C': 0.12, 'penalty': 'l1'},\n",
       "  {'C': 0.12, 'penalty': 'l2'},\n",
       "  {'C': 0.23, 'penalty': 'l1'},\n",
       "  {'C': 0.23, 'penalty': 'l2'},\n",
       "  {'C': 0.34, 'penalty': 'l1'},\n",
       "  {'C': 0.34, 'penalty': 'l2'},\n",
       "  {'C': 0.45, 'penalty': 'l1'},\n",
       "  {'C': 0.45, 'penalty': 'l2'},\n",
       "  {'C': 0.56, 'penalty': 'l1'},\n",
       "  {'C': 0.56, 'penalty': 'l2'},\n",
       "  {'C': 0.67, 'penalty': 'l1'},\n",
       "  {'C': 0.67, 'penalty': 'l2'},\n",
       "  {'C': 0.78, 'penalty': 'l1'},\n",
       "  {'C': 0.78, 'penalty': 'l2'},\n",
       "  {'C': 0.89, 'penalty': 'l1'},\n",
       "  {'C': 0.89, 'penalty': 'l2'},\n",
       "  {'C': 1.0, 'penalty': 'l1'},\n",
       "  {'C': 1.0, 'penalty': 'l2'}],\n",
       " 'split0_test_score': array([0.69110764, 0.69812793, 0.71918877, 0.71684867, 0.71528861,\n",
       "        0.72074883, 0.71450858, 0.71840874, 0.71528861, 0.71762871,\n",
       "        0.71450858, 0.71918877, 0.71372855, 0.71684867, 0.71372855,\n",
       "        0.71684867, 0.71372855, 0.71684867, 0.71372855, 0.71684867]),\n",
       " 'split1_test_score': array([0.68876755, 0.70124805, 0.72152886, 0.70436817, 0.72152886,\n",
       "        0.70982839, 0.71840874, 0.71138846, 0.71762871, 0.71294852,\n",
       "        0.71762871, 0.71294852, 0.71684867, 0.71450858, 0.71606864,\n",
       "        0.71450858, 0.71528861, 0.71450858, 0.71606864, 0.71294852]),\n",
       " 'split2_test_score': array([0.69188768, 0.72152886, 0.73946958, 0.7425897 , 0.73868955,\n",
       "        0.7449298 , 0.73946958, 0.7449298 , 0.74024961, 0.74414977,\n",
       "        0.74102964, 0.74336973, 0.74102964, 0.7449298 , 0.73946958,\n",
       "        0.7449298 , 0.74024961, 0.7449298 , 0.74180967, 0.74414977]),\n",
       " 'split3_test_score': array([0.7165231 , 0.69694597, 0.71808927, 0.70790916, 0.71730619,\n",
       "        0.7110415 , 0.72122161, 0.71260767, 0.72122161, 0.71574002,\n",
       "        0.7220047 , 0.7165231 , 0.7220047 , 0.71808927, 0.72357087,\n",
       "        0.71808927, 0.72278778, 0.71887236, 0.72278778, 0.71887236]),\n",
       " 'split4_test_score': array([0.68833203, 0.71025842, 0.71495693, 0.7165231 , 0.71730619,\n",
       "        0.71495693, 0.71495693, 0.7165231 , 0.71260767, 0.71730619,\n",
       "        0.71417384, 0.71730619, 0.71339076, 0.7165231 , 0.71339076,\n",
       "        0.71730619, 0.71339076, 0.71730619, 0.71339076, 0.71808927]),\n",
       " 'mean_test_score': array([0.6953125 , 0.705625  , 0.72265625, 0.71765625, 0.72203125,\n",
       "        0.7203125 , 0.72171875, 0.72078125, 0.72140625, 0.7215625 ,\n",
       "        0.721875  , 0.721875  , 0.72140625, 0.7221875 , 0.72125   ,\n",
       "        0.72234375, 0.72109375, 0.7225    , 0.7215625 , 0.7221875 ]),\n",
       " 'std_test_score': array([0.01067527, 0.00922363, 0.00867633, 0.01338816, 0.00858216,\n",
       "        0.01289653, 0.00921398, 0.01235155, 0.00984551, 0.01142535,\n",
       "        0.00999067, 0.01094696, 0.01029541, 0.01144021, 0.00982871,\n",
       "        0.01136689, 0.0101751 , 0.01131259, 0.01068086, 0.01117904]),\n",
       " 'rank_test_score': array([20, 19,  1, 18,  6, 17,  9, 16, 12, 10,  7,  7, 12,  4, 14,  3, 15,\n",
       "         2, 10,  4]),\n",
       " 'split0_train_score': array([0.69910121, 0.71961704, 0.73231731, 0.72919109, 0.73563892,\n",
       "        0.73446659, 0.73505275, 0.73466198, 0.73524814, 0.7360297 ,\n",
       "        0.73544353, 0.73505275, 0.73524814, 0.73485737, 0.73583431,\n",
       "        0.7342712 , 0.73583431, 0.73466198, 0.7360297 , 0.73485737]),\n",
       " 'split1_train_score': array([0.70711215, 0.71590465, 0.73134037, 0.72840953, 0.7307542 ,\n",
       "        0.73016803, 0.73134037, 0.73153576, 0.73173114, 0.73173114,\n",
       "        0.73153576, 0.73114498, 0.73153576, 0.73192653, 0.73231731,\n",
       "        0.73192653, 0.73231731, 0.73231731, 0.73212192, 0.73212192]),\n",
       " 'split2_train_score': array([0.69499805, 0.70750293, 0.72411098, 0.72293865, 0.72528331,\n",
       "        0.72508792, 0.72782337, 0.72626026, 0.72684642, 0.72606487,\n",
       "        0.72606487, 0.7254787 , 0.72586948, 0.72567409, 0.72645565,\n",
       "        0.72489254, 0.72704181, 0.72528331, 0.72684642, 0.72508792]),\n",
       " 'split3_train_score': array([0.69431973, 0.71715792, 0.73257857, 0.7286746 , 0.73160258,\n",
       "        0.72769861, 0.73160258, 0.7294554 , 0.73101698, 0.72984579,\n",
       "        0.73043139, 0.72984579, 0.7296506 , 0.7296506 , 0.7294554 ,\n",
       "        0.7296506 , 0.7294554 , 0.7294554 , 0.72984579, 0.7296506 ]),\n",
       " 'split4_train_score': array([0.69880929, 0.71676752, 0.73160258, 0.729065  , 0.73140738,\n",
       "        0.73082178, 0.73101698, 0.73179777, 0.73277377, 0.73296896,\n",
       "        0.73238337, 0.73257857, 0.73238337, 0.73316416, 0.73238337,\n",
       "        0.73316416, 0.73238337, 0.73277377, 0.73257857, 0.73238337]),\n",
       " 'mean_train_score': array([0.69886809, 0.71539001, 0.73038996, 0.72765578, 0.73093728,\n",
       "        0.72964859, 0.73136721, 0.73074223, 0.73152329, 0.73132809,\n",
       "        0.73117178, 0.73082016, 0.73093747, 0.73105455, 0.73128921,\n",
       "        0.73078101, 0.73140644, 0.73089835, 0.73148448, 0.73082024]),\n",
       " 'std_train_score': array([0.00455384, 0.00413187, 0.00317188, 0.00237489, 0.00330968,\n",
       "        0.0031452 , 0.00229438, 0.00278755, 0.00274266, 0.00331236,\n",
       "        0.00304884, 0.00318097, 0.00311034, 0.00318096, 0.00315082,\n",
       "        0.00332039, 0.00297478, 0.00326516, 0.00304825, 0.00330647])}"
      ]
     },
     "execution_count": 32,
     "metadata": {},
     "output_type": "execute_result"
    }
   ],
   "source": [
    "grid_search.cv_results_"
   ]
  },
  {
   "cell_type": "markdown",
   "metadata": {
    "colab_type": "text",
    "id": "rzsRzpiv25p2"
   },
   "source": [
    "Постройте графики средних значений критерия качества `accuracy` для типов регуляризации `l1` и `l2` в зависимости от коэффициента регуляризации `C`."
   ]
  },
  {
   "cell_type": "code",
   "execution_count": 33,
   "metadata": {
    "colab": {
     "autoexec": {
      "startup": false,
      "wait_interval": 0
     }
    },
    "colab_type": "code",
    "id": "nYOrtHpy25p3"
   },
   "outputs": [],
   "source": [
    "# Ваш код здесь\n",
    "import matplotlib.pyplot as plt\n",
    "%matplotlib inline"
   ]
  },
  {
   "cell_type": "code",
   "execution_count": 34,
   "metadata": {},
   "outputs": [],
   "source": [
    "x = pg['C']\n",
    "l1 = [grid_search.cv_results_['mean_test_score'][2*n] for n in range(10)]\n",
    "l2 = [grid_search.cv_results_['mean_test_score'][2*n+1] for n in range(10)]"
   ]
  },
  {
   "cell_type": "code",
   "execution_count": 35,
   "metadata": {},
   "outputs": [
    {
     "data": {
      "text/plain": [
       "<matplotlib.legend.Legend at 0xc3e9e48>"
      ]
     },
     "execution_count": 35,
     "metadata": {},
     "output_type": "execute_result"
    },
    {
     "data": {
      "image/png": "[encoded data removed]",
      "text/plain": [
       "<Figure size 432x288 with 1 Axes>"
      ]
     },
     "metadata": {
      "needs_background": "light"
     },
     "output_type": "display_data"
    }
   ],
   "source": [
    "plt.plot(x, l1, label='l1 mean test score')\n",
    "plt.plot(x, l2, label='l2 mean test score')\n",
    "plt.legend()"
   ]
  },
  {
   "cell_type": "markdown",
   "metadata": {
    "colab_type": "text",
    "id": "IQraNf0M25p5"
   },
   "source": [
    "Проанализируйте полученные графики. Чему равны найденные оптимальные значения параметров `C` и `penalty`?"
   ]
  },
  {
   "cell_type": "code",
   "execution_count": 36,
   "metadata": {
    "colab": {
     "autoexec": {
      "startup": false,
      "wait_interval": 0
     }
    },
    "colab_type": "code",
    "id": "BkT1RWJj25p7"
   },
   "outputs": [
    {
     "data": {
      "text/plain": [
       "{'C': 0.12, 'penalty': 'l1'}"
      ]
     },
     "execution_count": 36,
     "metadata": {},
     "output_type": "execute_result"
    }
   ],
   "source": [
    "# Ваш код здесь\n",
    "grid_search.best_params_"
   ]
  },
  {
   "cell_type": "markdown",
   "metadata": {
    "colab_type": "text",
    "id": "uIX7uVYk25p9"
   },
   "source": [
    "Используя найденные оптимальные значения `C` и `penalty`, обучите логистическую регрессию на обучающей выборке (train) и вычислите вероятности принадлежности к классам для тестовой (test)  выборки (`best_lr_clf.predict_proba`)."
   ]
  },
  {
   "cell_type": "code",
   "execution_count": 37,
   "metadata": {
    "colab": {
     "autoexec": {
      "startup": false,
      "wait_interval": 0
     }
    },
    "colab_type": "code",
    "id": "1rDNazlC25p9"
   },
   "outputs": [
    {
     "data": {
      "text/plain": [
       "LogisticRegression(C=0.12, class_weight=None, dual=False, fit_intercept=True,\n",
       "          intercept_scaling=1, max_iter=10000, multi_class='multinomial',\n",
       "          n_jobs=-1, penalty='l1', random_state=None, solver='saga',\n",
       "          tol=0.0001, verbose=0, warm_start=False)"
      ]
     },
     "execution_count": 37,
     "metadata": {},
     "output_type": "execute_result"
    }
   ],
   "source": [
    "# Ваш код здесь\n",
    "best_lr_clf = LogisticRegression(solver='saga', multi_class='multinomial', n_jobs =-1, max_iter=10000, C=0.12, penalty='l1')\n",
    "best_lr_clf.fit(train_features, train_labels)"
   ]
  },
  {
   "cell_type": "code",
   "execution_count": 38,
   "metadata": {},
   "outputs": [],
   "source": [
    "predicted_proba = best_lr_clf.predict_proba(test_features)"
   ]
  },
  {
   "cell_type": "markdown",
   "metadata": {
    "colab_type": "text",
    "id": "Ck7T2dGQ25p_"
   },
   "source": [
    "Для полученной матрицы вычислите усредненные по всем объектам из тестовой выборки значения вероятностей принадлежности к классам. Сравните ее оценкой вероятности принадлежности к классу на основе частот меток классов в обучающей выборке."
   ]
  },
  {
   "cell_type": "code",
   "execution_count": 39,
   "metadata": {
    "colab": {
     "autoexec": {
      "startup": false,
      "wait_interval": 0
     }
    },
    "colab_type": "code",
    "id": "JOf0BNix25qA"
   },
   "outputs": [
    {
     "data": {
      "text/plain": [
       "array([0.37300179, 0.48759277, 0.06192525, 0.00596349, 0.01619343,\n",
       "       0.02746148, 0.02786179])"
      ]
     },
     "execution_count": 39,
     "metadata": {},
     "output_type": "execute_result"
    }
   ],
   "source": [
    "# Ваш код здесь\n",
    "np.mean(predicted_proba, axis=0)"
   ]
  },
  {
   "cell_type": "code",
   "execution_count": 40,
   "metadata": {},
   "outputs": [],
   "source": [
    "def counter(a):\n",
    "    b = dict()\n",
    "    for x in a:\n",
    "        if x in b:\n",
    "            b[x] = b[x] + 1\n",
    "        else:\n",
    "            b[x] = 1\n",
    "    return b"
   ]
  },
  {
   "cell_type": "code",
   "execution_count": 41,
   "metadata": {},
   "outputs": [
    {
     "data": {
      "text/plain": [
       "1600"
      ]
     },
     "execution_count": 41,
     "metadata": {},
     "output_type": "execute_result"
    }
   ],
   "source": [
    "counted_labels = counter(test_labels)\n",
    "S = sum(counted_labels.values())\n",
    "S"
   ]
  },
  {
   "cell_type": "code",
   "execution_count": 42,
   "metadata": {},
   "outputs": [
    {
     "data": {
      "text/plain": [
       "{1: 0.378125,\n",
       " 2: 0.478125,\n",
       " 7: 0.029375,\n",
       " 3: 0.06625,\n",
       " 4: 0.004375,\n",
       " 6: 0.03,\n",
       " 5: 0.01375}"
      ]
     },
     "execution_count": 42,
     "metadata": {},
     "output_type": "execute_result"
    }
   ],
   "source": [
    "counted_labels_proba = {key: counted_labels[key]/S for key in counted_labels.keys()}\n",
    "counted_labels_proba"
   ]
  },
  {
   "cell_type": "markdown",
   "metadata": {
    "colab_type": "text",
    "id": "VYogShkD25qD"
   },
   "source": [
    "#### 2.3 Многоклассовая классификация: kNN (30%)."
   ]
  },
  {
   "cell_type": "markdown",
   "metadata": {
    "colab_type": "text",
    "id": "BHVNCaJ325qD"
   },
   "source": [
    "Вспомним первое занятие. Обучите на том же датасете `KNeighborsClassifier` из `sklearn`."
   ]
  },
  {
   "cell_type": "code",
   "execution_count": 43,
   "metadata": {
    "colab": {
     "autoexec": {
      "startup": false,
      "wait_interval": 0
     }
    },
    "colab_type": "code",
    "id": "o4CMnnOY25qD"
   },
   "outputs": [],
   "source": [
    "from sklearn.neighbors import KNeighborsClassifier"
   ]
  },
  {
   "cell_type": "code",
   "execution_count": 44,
   "metadata": {},
   "outputs": [
    {
     "data": {
      "text/plain": [
       "KNeighborsClassifier(algorithm='auto', leaf_size=30, metric='minkowski',\n",
       "           metric_params=None, n_jobs=None, n_neighbors=5, p=2,\n",
       "           weights='distance')"
      ]
     },
     "execution_count": 44,
     "metadata": {},
     "output_type": "execute_result"
    }
   ],
   "source": [
    "# Ваш код здесь\n",
    "knclassifier = KNeighborsClassifier(weights='distance')\n",
    "knclassifier.fit(train_features, train_labels)"
   ]
  },
  {
   "cell_type": "code",
   "execution_count": 45,
   "metadata": {},
   "outputs": [
    {
     "data": {
      "text/plain": [
       "0.738125"
      ]
     },
     "execution_count": 45,
     "metadata": {},
     "output_type": "execute_result"
    }
   ],
   "source": [
    "predicted_labels = knclassifier.predict(test_features)\n",
    "accuracy_score(test_labels, predicted_labels)"
   ]
  },
  {
   "cell_type": "markdown",
   "metadata": {
    "colab_type": "text",
    "id": "Yl_foM3u25qF"
   },
   "source": [
    "Попробуйте использовать различные стратегии вычисления весов: `[‘uniform’, ‘distance’]`. Выберите одно из них самостоятельно. Чем обоснован Ваш выбор?"
   ]
  },
  {
   "cell_type": "markdown",
   "metadata": {
    "colab_type": "text",
    "id": "8WzoRJZd25qF"
   },
   "source": [
    "Переберите по сетке от `1` до `10` параметр числа соседей. Покажите на графике, как менялись значения критерия качества `accuracy` при изменении числа соседей."
   ]
  },
  {
   "cell_type": "code",
   "execution_count": 46,
   "metadata": {
    "colab": {
     "autoexec": {
      "startup": false,
      "wait_interval": 0
     }
    },
    "colab_type": "code",
    "id": "4lMSy-6f25qG"
   },
   "outputs": [],
   "source": [
    "# Ваш код здесь\n",
    "knclassifier = KNeighborsClassifier(weights='distance')\n",
    "knn_grid = {'n_neighbors': range(1, 11)}\n",
    "cross_valid = 5"
   ]
  },
  {
   "cell_type": "code",
   "execution_count": 47,
   "metadata": {},
   "outputs": [
    {
     "data": {
      "text/plain": [
       "GridSearchCV(cv=5, error_score='raise-deprecating',\n",
       "       estimator=KNeighborsClassifier(algorithm='auto', leaf_size=30, metric='minkowski',\n",
       "           metric_params=None, n_jobs=None, n_neighbors=5, p=2,\n",
       "           weights='distance'),\n",
       "       fit_params=None, iid='warn', n_jobs=-1,\n",
       "       param_grid={'n_neighbors': range(1, 11)}, pre_dispatch='2*n_jobs',\n",
       "       refit=True, return_train_score='warn', scoring=None, verbose=0)"
      ]
     },
     "execution_count": 47,
     "metadata": {},
     "output_type": "execute_result"
    }
   ],
   "source": [
    "knn_grid_search = GridSearchCV(estimator=knclassifier, cv=cross_valid, param_grid=knn_grid, n_jobs=-1)\n",
    "knn_grid_search.fit(train_features, train_labels)"
   ]
  },
  {
   "cell_type": "code",
   "execution_count": 48,
   "metadata": {
    "scrolled": true
   },
   "outputs": [
    {
     "name": "stderr",
     "output_type": "stream",
     "text": [
      "D:\\Anaconda\\lib\\site-packages\\sklearn\\utils\\deprecation.py:125: FutureWarning: You are accessing a training score ('split0_train_score'), which will not be available by default any more in 0.21. If you need training scores, please set return_train_score=True\n",
      "  warnings.warn(*warn_args, **warn_kwargs)\n",
      "D:\\Anaconda\\lib\\site-packages\\sklearn\\utils\\deprecation.py:125: FutureWarning: You are accessing a training score ('split1_train_score'), which will not be available by default any more in 0.21. If you need training scores, please set return_train_score=True\n",
      "  warnings.warn(*warn_args, **warn_kwargs)\n",
      "D:\\Anaconda\\lib\\site-packages\\sklearn\\utils\\deprecation.py:125: FutureWarning: You are accessing a training score ('split2_train_score'), which will not be available by default any more in 0.21. If you need training scores, please set return_train_score=True\n",
      "  warnings.warn(*warn_args, **warn_kwargs)\n",
      "D:\\Anaconda\\lib\\site-packages\\sklearn\\utils\\deprecation.py:125: FutureWarning: You are accessing a training score ('split3_train_score'), which will not be available by default any more in 0.21. If you need training scores, please set return_train_score=True\n",
      "  warnings.warn(*warn_args, **warn_kwargs)\n",
      "D:\\Anaconda\\lib\\site-packages\\sklearn\\utils\\deprecation.py:125: FutureWarning: You are accessing a training score ('split4_train_score'), which will not be available by default any more in 0.21. If you need training scores, please set return_train_score=True\n",
      "  warnings.warn(*warn_args, **warn_kwargs)\n",
      "D:\\Anaconda\\lib\\site-packages\\sklearn\\utils\\deprecation.py:125: FutureWarning: You are accessing a training score ('mean_train_score'), which will not be available by default any more in 0.21. If you need training scores, please set return_train_score=True\n",
      "  warnings.warn(*warn_args, **warn_kwargs)\n",
      "D:\\Anaconda\\lib\\site-packages\\sklearn\\utils\\deprecation.py:125: FutureWarning: You are accessing a training score ('std_train_score'), which will not be available by default any more in 0.21. If you need training scores, please set return_train_score=True\n",
      "  warnings.warn(*warn_args, **warn_kwargs)\n"
     ]
    },
    {
     "data": {
      "text/plain": [
       "{'mean_fit_time': array([0.08120465, 0.07740436, 0.07700434, 0.08140464, 0.07660427,\n",
       "        0.08360486, 0.09000516, 0.08180461, 0.08080459, 0.08100462]),\n",
       " 'std_fit_time': array([0.00416679, 0.00149676, 0.00126501, 0.00463053, 0.0004898 ,\n",
       "        0.00640674, 0.01260223, 0.00312421, 0.00074826, 0.00126501]),\n",
       " 'mean_score_time': array([0.61983547, 0.6480371 , 0.63823652, 0.6512373 , 0.64123669,\n",
       "        0.73644199, 0.74584265, 0.6644381 , 0.66123772, 0.67763877]),\n",
       " 'std_score_time': array([0.00649338, 0.03081727, 0.00902055, 0.01990502, 0.00552841,\n",
       "        0.06118712, 0.13452509, 0.02838195, 0.00990805, 0.0141513 ]),\n",
       " 'param_n_neighbors': masked_array(data=[1, 2, 3, 4, 5, 6, 7, 8, 9, 10],\n",
       "              mask=[False, False, False, False, False, False, False, False,\n",
       "                    False, False],\n",
       "        fill_value='?',\n",
       "             dtype=object),\n",
       " 'params': [{'n_neighbors': 1},\n",
       "  {'n_neighbors': 2},\n",
       "  {'n_neighbors': 3},\n",
       "  {'n_neighbors': 4},\n",
       "  {'n_neighbors': 5},\n",
       "  {'n_neighbors': 6},\n",
       "  {'n_neighbors': 7},\n",
       "  {'n_neighbors': 8},\n",
       "  {'n_neighbors': 9},\n",
       "  {'n_neighbors': 10}],\n",
       " 'split0_test_score': array([0.73322933, 0.73322933, 0.73478939, 0.74102964, 0.73400936,\n",
       "        0.73556942, 0.73556942, 0.73712949, 0.72932917, 0.72542902]),\n",
       " 'split1_test_score': array([0.7074883 , 0.7074883 , 0.72464899, 0.71606864, 0.71138846,\n",
       "        0.71216849, 0.71060842, 0.71762871, 0.71528861, 0.72230889]),\n",
       " 'split2_test_score': array([0.73400936, 0.73400936, 0.72932917, 0.73634945, 0.73868955,\n",
       "        0.74102964, 0.74336973, 0.74804992, 0.7425897 , 0.73712949]),\n",
       " 'split3_test_score': array([0.74471417, 0.74471417, 0.73844949, 0.75019577, 0.74706343,\n",
       "        0.75567737, 0.743148  , 0.73766641, 0.73531715, 0.74001566]),\n",
       " 'split4_test_score': array([0.73453406, 0.73453406, 0.74471417, 0.75332811, 0.7595928 ,\n",
       "        0.76115897, 0.7595928 , 0.75176194, 0.7541112 , 0.75019577]),\n",
       " 'mean_test_score': array([0.73078125, 0.73078125, 0.734375  , 0.739375  , 0.738125  ,\n",
       "        0.74109375, 0.7384375 , 0.7384375 , 0.7353125 , 0.735     ]),\n",
       " 'std_test_score': array([0.01239008, 0.01239008, 0.00698034, 0.01316809, 0.01595455,\n",
       "        0.0172186 , 0.01598065, 0.01187987, 0.01298493, 0.01012988]),\n",
       " 'rank_test_score': array([9, 9, 8, 2, 5, 1, 3, 3, 6, 7]),\n",
       " 'split0_train_score': array([1., 1., 1., 1., 1., 1., 1., 1., 1., 1.]),\n",
       " 'split1_train_score': array([1., 1., 1., 1., 1., 1., 1., 1., 1., 1.]),\n",
       " 'split2_train_score': array([1., 1., 1., 1., 1., 1., 1., 1., 1., 1.]),\n",
       " 'split3_train_score': array([1., 1., 1., 1., 1., 1., 1., 1., 1., 1.]),\n",
       " 'split4_train_score': array([1., 1., 1., 1., 1., 1., 1., 1., 1., 1.]),\n",
       " 'mean_train_score': array([1., 1., 1., 1., 1., 1., 1., 1., 1., 1.]),\n",
       " 'std_train_score': array([0., 0., 0., 0., 0., 0., 0., 0., 0., 0.])}"
      ]
     },
     "execution_count": 48,
     "metadata": {},
     "output_type": "execute_result"
    }
   ],
   "source": [
    "knn_grid_search.cv_results_"
   ]
  },
  {
   "cell_type": "code",
   "execution_count": 49,
   "metadata": {},
   "outputs": [
    {
     "data": {
      "text/plain": [
       "[<matplotlib.lines.Line2D at 0xc4b2828>]"
      ]
     },
     "execution_count": 49,
     "metadata": {},
     "output_type": "execute_result"
    },
    {
     "data": {
      "image/png": "[encoded data removed]",
      "text/plain": [
       "<Figure size 432x288 with 1 Axes>"
      ]
     },
     "metadata": {
      "needs_background": "light"
     },
     "output_type": "display_data"
    }
   ],
   "source": [
    "plt.plot(range(1, 11), knn_grid_search.cv_results_['mean_test_score'])"
   ]
  },
  {
   "cell_type": "markdown",
   "metadata": {
    "colab_type": "text",
    "id": "aBmiDbvV25qI"
   },
   "source": [
    "Используя найденное оптимальное число соседей, вычислите вероятности принадлежности к классам для тестовой выборки (`.predict_proba`)."
   ]
  },
  {
   "cell_type": "code",
   "execution_count": 50,
   "metadata": {
    "colab": {
     "autoexec": {
      "startup": false,
      "wait_interval": 0
     }
    },
    "colab_type": "code",
    "id": "ig_vS8O925qI"
   },
   "outputs": [
    {
     "data": {
      "text/plain": [
       "array([[0.82078436, 0.17921564, 0.        , ..., 0.        , 0.        ,\n",
       "        0.        ],\n",
       "       [0.        , 0.87162401, 0.12837599, ..., 0.        , 0.        ,\n",
       "        0.        ],\n",
       "       [0.84729505, 0.15270495, 0.        , ..., 0.        , 0.        ,\n",
       "        0.        ],\n",
       "       ...,\n",
       "       [0.43765227, 0.56234773, 0.        , ..., 0.        , 0.        ,\n",
       "        0.        ],\n",
       "       [0.48160727, 0.51839273, 0.        , ..., 0.        , 0.        ,\n",
       "        0.        ],\n",
       "       [0.        , 1.        , 0.        , ..., 0.        , 0.        ,\n",
       "        0.        ]])"
      ]
     },
     "execution_count": 50,
     "metadata": {},
     "output_type": "execute_result"
    }
   ],
   "source": [
    "# Ваш код здесь\n",
    "knn_grid_search.predict_proba(test_features)"
   ]
  },
  {
   "cell_type": "markdown",
   "metadata": {},
   "source": [
    "Создайте объект `best_knn_clf`, который представляет собой лучший классификатор."
   ]
  },
  {
   "cell_type": "code",
   "execution_count": 51,
   "metadata": {},
   "outputs": [
    {
     "data": {
      "text/plain": [
       "KNeighborsClassifier(algorithm='auto', leaf_size=30, metric='minkowski',\n",
       "           metric_params=None, n_jobs=-1, n_neighbors=6, p=2,\n",
       "           weights='distance')"
      ]
     },
     "execution_count": 51,
     "metadata": {},
     "output_type": "execute_result"
    }
   ],
   "source": [
    "# Hint: для этого достаточно указать стратегию вычисления весов и число соседей в конструкторе\n",
    "\n",
    "best_knn_clf = KNeighborsClassifier(n_neighbors=6, weights='distance', n_jobs =-1)\n",
    "best_knn_clf.fit(train_features, train_labels)"
   ]
  },
  {
   "cell_type": "markdown",
   "metadata": {
    "colab_type": "text",
    "id": "p41xvYTU25qK"
   },
   "source": [
    "#### 2.4 Сравнение результатов логистической регрессии и kNN (10%).\n",
    "\n",
    "В реальной жизни новые данные становятся доступны с течением времени. Сравните качество Вашей лучшей модели логистической регресии `best_lr_clf` и лучшего kNN `best_knn_clf` на отложенной выборке `delayed_data`. Какая из моделей показала лучший результат?"
   ]
  },
  {
   "cell_type": "code",
   "execution_count": 52,
   "metadata": {
    "colab": {
     "autoexec": {
      "startup": false,
      "wait_interval": 0
     }
    },
    "colab_type": "code",
    "id": "xJFKTJx425qL"
   },
   "outputs": [
    {
     "name": "stderr",
     "output_type": "stream",
     "text": [
      "D:\\Anaconda\\lib\\site-packages\\sklearn\\utils\\validation.py:595: DataConversionWarning: Data with input dtype int64 was converted to float64 by StandardScaler.\n",
      "  warnings.warn(msg, DataConversionWarning)\n"
     ]
    }
   ],
   "source": [
    "# Ваш код здесь\n",
    "delayed_feature_matrix = scaler.transform(delayed_feature_matrix)"
   ]
  },
  {
   "cell_type": "code",
   "execution_count": 53,
   "metadata": {},
   "outputs": [
    {
     "name": "stdout",
     "output_type": "stream",
     "text": [
      "lf_accuracy =  0.724\n",
      "knn_accuracy =  0.7335\n"
     ]
    }
   ],
   "source": [
    "lf_accuracy = accuracy_score(delayed_labels, best_lr_clf.predict(delayed_feature_matrix))\n",
    "print('lf_accuracy = ', lf_accuracy)\n",
    "knn_accuracy = accuracy_score(delayed_labels, best_knn_clf.predict(delayed_feature_matrix))\n",
    "print('knn_accuracy = ', knn_accuracy)"
   ]
  },
  {
   "cell_type": "markdown",
   "metadata": {},
   "source": [
    "#### Не меняйте следующую ячейку. Запустите ее для генерации `submission` файла."
   ]
  },
  {
   "cell_type": "code",
   "execution_count": 54,
   "metadata": {},
   "outputs": [],
   "source": [
    "# Do not change me, just run\n",
    "# !!!!!!!!!!!!!!!!!!!!!!!!!!!!!!!!!!!!!!!!!!!!!!!!\n",
    "_dict_for_submission['best_lr_clf_delayed'] = transform_list(list(best_lr_clf.predict(delayed_feature_matrix)))\n",
    "_dict_for_submission['best_knn_clf_delayed'] = transform_list(list(best_knn_clf.predict(delayed_feature_matrix)))\n",
    "\n",
    "import json\n",
    "with open('submission_hw1_basic.json', 'w') as iofile:\n",
    "    json.dump(_dict_for_submission, iofile)\n",
    "# !!!!!!!!!!!!!!!!!!!!!!!!!!!!!!!!!!!!!!!!!!!!!!!!"
   ]
  },
  {
   "cell_type": "markdown",
   "metadata": {},
   "source": [
    "Данный файл необходимо будет прикрепить к Google-форме для сдачи домашнего задания. __Для идентификации используется e-mail, который вы указали при регистрации на курс. Проверка производится автоматически. Если вы подпишитесь другим e-mail'ом, задание просто не будет засчитано.__"
   ]
  },
  {
   "cell_type": "markdown",
   "metadata": {},
   "source": [
    "На этом задание завершено. Мы будем рады, если вы оставите обратную связь по данному заданию [по ссылке](https://forms.gle/2qaf14ky3J6HZfe48). Она анонимна ;)"
   ]
  }
 ],
 "metadata": {
  "colab": {
   "collapsed_sections": [
    "dKCiU0wz25pj",
    "9MKHZ2JC25pv",
    "VYogShkD25qD",
    "p41xvYTU25qK"
   ],
   "default_view": {},
   "name": "HW1_Logistic_regression_and_SVM.ipynb",
   "provenance": [],
   "version": "0.3.2",
   "views": {}
  },
  "kernelspec": {
   "display_name": "Python 3",
   "language": "python",
   "name": "python3"
  },
  "language_info": {
   "codemirror_mode": {
    "name": "ipython",
    "version": 3
   },
   "file_extension": ".py",
   "mimetype": "text/x-python",
   "name": "python",
   "nbconvert_exporter": "python",
   "pygments_lexer": "ipython3",
   "version": "3.7.7"
  }
 },
 "nbformat": 4,
 "nbformat_minor": 1
}
